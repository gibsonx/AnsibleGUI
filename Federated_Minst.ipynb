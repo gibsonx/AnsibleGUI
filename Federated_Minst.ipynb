{
  "nbformat": 4,
  "nbformat_minor": 0,
  "metadata": {
    "colab": {
      "name": "Federated_Minst.ipynb",
      "provenance": [],
      "collapsed_sections": [],
      "authorship_tag": "ABX9TyNa20AVmFe6lKiYoQc+4gSO",
      "include_colab_link": true
    },
    "kernelspec": {
      "name": "python3",
      "display_name": "Python 3"
    },
    "language_info": {
      "name": "python"
    },
    "accelerator": "GPU"
  },
  "cells": [
    {
      "cell_type": "markdown",
      "metadata": {
        "id": "view-in-github",
        "colab_type": "text"
      },
      "source": [
        "<a href=\"https://colab.research.google.com/github/gibsonx/AnsibleGUI/blob/master/Federated_Minst.ipynb\" target=\"_parent\"><img src=\"https://colab.research.google.com/assets/colab-badge.svg\" alt=\"Open In Colab\"/></a>"
      ]
    },
    {
      "cell_type": "code",
      "metadata": {
        "colab": {
          "base_uri": "https://localhost:8080/"
        },
        "id": "HiEPQ5LYqL-q",
        "outputId": "ae1d256f-8a2b-4c4e-c137-5351bfa9a92f"
      },
      "source": [
        "#Modified by Gibson Xue on July 25, 2021\n",
        "!pip uninstall --yes tensorflow tensorboard tb-nightly\n",
        "!pip install --quiet tensorflow==2.5.0\n",
        "!pip install --quiet tensorflow-federated==0.19.0\n",
        "!pip install --quiet nest-asyncio\n",
        "!pip install --quiet tensorboard  # or tensorboard, but not both\n"
      ],
      "execution_count": 193,
      "outputs": [
        {
          "output_type": "stream",
          "text": [
            "Uninstalling tensorflow-2.5.0:\n",
            "  Successfully uninstalled tensorflow-2.5.0\n",
            "Uninstalling tensorboard-2.5.0:\n",
            "  Successfully uninstalled tensorboard-2.5.0\n",
            "\u001b[33mWARNING: Skipping tb-nightly as it is not installed.\u001b[0m\n"
          ],
          "name": "stdout"
        }
      ]
    },
    {
      "cell_type": "code",
      "metadata": {
        "colab": {
          "base_uri": "https://localhost:8080/"
        },
        "id": "SOl6vViEnDXf",
        "outputId": "a0f1f778-17c5-4bef-e43d-0c26f3a93a8f"
      },
      "source": [
        "import tensorflow as tf\n",
        "import numpy as np\n",
        "import pandas as pd\n",
        "import matplotlib.pyplot as plt\n",
        "%matplotlib inline\n",
        "import nest_asyncio\n",
        "nest_asyncio.apply()\n",
        "print(tf.__version__)"
      ],
      "execution_count": 194,
      "outputs": [
        {
          "output_type": "stream",
          "text": [
            "2.5.0\n"
          ],
          "name": "stdout"
        }
      ]
    },
    {
      "cell_type": "code",
      "metadata": {
        "colab": {
          "base_uri": "https://localhost:8080/"
        },
        "id": "xaUE1Amjmmzd",
        "outputId": "4f7e3032-c3d5-4c53-c9c5-5da8d60bc24d"
      },
      "source": [
        "!git clone https://github.com/egcode/MNIST-to-CSV.git\n",
        "def convert(imgf, labelf, outf, n):\n",
        "    f = open(imgf, \"rb\")\n",
        "    o = open(outf, \"w\")\n",
        "    l = open(labelf, \"rb\")\n",
        "\n",
        "    f.read(16)\n",
        "    l.read(8)\n",
        "    images = []\n",
        "\n",
        "    for i in range(n):\n",
        "        image = [ord(l.read(1))]\n",
        "        for j in range(28*28):\n",
        "            image.append(ord(f.read(1)))\n",
        "        images.append(image)\n",
        "\n",
        "    for image in images:\n",
        "        o.write(\",\".join(str(pix) for pix in image)+\"\\n\")\n",
        "    f.close()\n",
        "    o.close()\n",
        "    l.close()\n",
        "\n",
        "convert(\"/content/MNIST-to-CSV/train-images-idx3-ubyte\", \"/content/MNIST-to-CSV/train-labels-idx1-ubyte\",\n",
        "        \"mnist_train.csv\", 60000)\n",
        "convert(\"/content/MNIST-to-CSV/t10k-images-idx3-ubyte\", \"/content/MNIST-to-CSV/t10k-labels-idx1-ubyte\",\n",
        "        \"mnist_test.csv\", 10000)"
      ],
      "execution_count": 195,
      "outputs": [
        {
          "output_type": "stream",
          "text": [
            "fatal: destination path 'MNIST-to-CSV' already exists and is not an empty directory.\n"
          ],
          "name": "stdout"
        }
      ]
    },
    {
      "cell_type": "code",
      "metadata": {
        "id": "cjtpJFYFmvf2"
      },
      "source": [
        "df_orig_train = pd.read_csv('mnist_train.csv')\n",
        "df_orig_test = pd.read_csv('mnist_test.csv')\n",
        "df_orig_train.rename(columns={'5':'label'}, inplace=True)\n",
        "df_orig_test.rename(columns={'7':'label'}, inplace=True)\n",
        "df_orig_train.to_csv('mnist_train_final.csv', index=False)\n",
        "df_orig_test.to_csv('mnist_test_final.csv', index=False)"
      ],
      "execution_count": 196,
      "outputs": []
    },
    {
      "cell_type": "code",
      "metadata": {
        "id": "9qg9brC9qQ8T"
      },
      "source": [
        "import collections\n",
        "import functools\n",
        "import os\n",
        "import time\n",
        "from tensorflow.keras.datasets import mnist\n",
        "import numpy as np\n",
        "import tensorflow as tf\n",
        "import tensorflow_federated as tff\n",
        "import tensorflow_datasets as tfds\n",
        "import pandas as pd\n",
        "np.random.seed(0)\n",
        "\n",
        "from tensorflow import reshape, nest, config\n",
        "from tensorflow.keras import losses, metrics, optimizers\n",
        "import tensorflow_federated as tff\n",
        "from matplotlib import pyplot as plt\n",
        "from pathlib import Path\n",
        "from sklearn.model_selection import train_test_split\n",
        "# Test the TFF is working:\n",
        "tff.federated_computation(lambda: 'Hello, World!')()\n",
        "\n",
        "from tensorflow.keras import Sequential\n",
        "from tensorflow.keras.layers import Conv2D, MaxPool2D, Flatten, Dense\n",
        "\n",
        "\n",
        "def create_keras_model():\n",
        "    model = Sequential([\n",
        "        Conv2D(32, (3, 3), activation='relu', input_shape=(28, 28, 1)),\n",
        "        MaxPool2D(pool_size=(2, 2)),\n",
        "        Conv2D(64, (3, 3), activation='relu'),\n",
        "        MaxPool2D(pool_size=(2, 2)),\n",
        "        Flatten(),\n",
        "        Dense(512, activation='relu'),\n",
        "        Dense(10, activation='softmax')\n",
        "    ])\n",
        "    return model"
      ],
      "execution_count": 197,
      "outputs": []
    },
    {
      "cell_type": "code",
      "metadata": {
        "id": "7PAPW25UaIug"
      },
      "source": [
        "this_dir = Path.cwd()\n",
        "model_dir = this_dir / \"saved_models\" / experiment_name / method\n",
        "output_dir = this_dir / \"results\" / experiment_name / method\n",
        "\n",
        "if not model_dir.exists():\n",
        "    model_dir.mkdir(parents=True)\n",
        "\n",
        "if not output_dir.exists():\n",
        "    output_dir.mkdir(parents=True)"
      ],
      "execution_count": 198,
      "outputs": []
    },
    {
      "cell_type": "code",
      "metadata": {
        "id": "GAl9vAtoCW1L"
      },
      "source": [
        "experiment_name = \"mnist\"\n",
        "method = \"tff_training\"\n",
        "client_lr = 1e-2\n",
        "server_lr = 1e-2\n",
        "split = 4\n",
        "NUM_ROUNDS = 5\n",
        "NUM_EPOCHS = 5\n",
        "BATCH_SIZE = 20\n",
        "PREFETCH_BUFFER = 10\n",
        "\n",
        "df_orig_train = pd.read_csv('mnist_train_final.csv')\n",
        "df_orig_test = pd.read_csv('mnist_test_final.csv')\n",
        "\n",
        "X_train = df_orig_train.drop('label',axis=1).to_numpy().astype(np.int32).reshape(59999,28,28,1)\n",
        "Y_train = df_orig_train['label'].to_numpy().astype(np.int32)\n",
        "\n",
        "# x_test = df_orig_test.drop('label',axis=1).to_numpy().astype(np.int32).reshape(9999,28,28,1)\n",
        "# y_test = df_orig_test['label'].to_numpy().astype(np.int32)\n",
        "\n",
        "x_train, x_test, y_train, y_test = train_test_split(X_train, Y_train, test_size=0.33, random_state=42)\n",
        "\n",
        "\n",
        "# (x_train, y_train), (x_test, y_test) = mnist.load_data()\n",
        "\n",
        "# x_train = x_train.astype(np.float32)[:300]\n",
        "# y_train = y_train.astype(np.int32)[:300]\n",
        "# # x_test = x_test.astype(np.float32).reshape(10000, 28, 28, 1)\n",
        "# x_test = x_test.astype(np.float32)\n",
        "# y_test = y_test.astype(np.int32).reshape(10000, 1)\n",
        "\n",
        "\n",
        "\n"
      ],
      "execution_count": 199,
      "outputs": []
    },
    {
      "cell_type": "code",
      "metadata": {
        "colab": {
          "base_uri": "https://localhost:8080/"
        },
        "id": "xNWFcdBXBVrw",
        "outputId": "186569bc-f367-4abf-a033-9527d1dfdc50"
      },
      "source": [
        "x_train.shape"
      ],
      "execution_count": 200,
      "outputs": [
        {
          "output_type": "execute_result",
          "data": {
            "text/plain": [
              "(40199, 28, 28, 1)"
            ]
          },
          "metadata": {
            "tags": []
          },
          "execution_count": 200
        }
      ]
    },
    {
      "cell_type": "code",
      "metadata": {
        "colab": {
          "base_uri": "https://localhost:8080/"
        },
        "id": "Oi3epWpPFUQu",
        "outputId": "85cd79a8-5404-46f7-a46f-44be46d8e9ac"
      },
      "source": [
        "total_image_count = len(x_train)\n",
        "image_per_set = int(np.floor(total_image_count/split))\n",
        "\n",
        "client_train_dataset = collections.OrderedDict()\n",
        "for i in range(1, split+1):\n",
        "    client_name = \"client_\" + str(i)\n",
        "    start = image_per_set * (i-1)\n",
        "    end = image_per_set * i\n",
        "\n",
        "    print(f\"Adding data from {start} to {end} for client : {client_name}\")\n",
        "    data = collections.OrderedDict((('label', y_train[start:end]), ('pixels', x_train[start:end])))\n",
        "    client_train_dataset[client_name] = data\n",
        "\n",
        "train_dataset = tff.simulation.datasets.TestClientData(client_train_dataset)\n",
        "\n",
        "sample_dataset = train_dataset.create_tf_dataset_for_client(train_dataset.client_ids[0])\n",
        "sample_element = next(iter(sample_dataset))\n",
        "\n",
        "SHUFFLE_BUFFER = image_per_set\n",
        "\n",
        "\n",
        "def preprocess(dataset):\n",
        "\n",
        "  def batch_format_fn(element):\n",
        "    \"\"\"Flatten a batch `pixels` and return the features as an `OrderedDict`.\"\"\"\n",
        "    print(element['pixels'])\n",
        "    return collections.OrderedDict(\n",
        "        x=reshape(element['pixels'], [-1, 28, 28, 1]),\n",
        "        y=reshape(element['label'], [-1, 1]))\n",
        "\n",
        "  return dataset.repeat(NUM_EPOCHS).shuffle(SHUFFLE_BUFFER).batch(\n",
        "      BATCH_SIZE).map(batch_format_fn).prefetch(PREFETCH_BUFFER)\n",
        "\n",
        "preprocessed_sample_dataset = preprocess(sample_dataset)\n",
        "sample_batch = nest.map_structure(lambda x: x.numpy(), next(iter(preprocessed_sample_dataset)))\n",
        "\n",
        "def make_federated_data(client_data, client_ids):\n",
        "    return [preprocess(client_data.create_tf_dataset_for_client(x)) for x in client_ids]\n",
        "\n",
        "federated_train_data = make_federated_data(train_dataset, train_dataset.client_ids)\n",
        "print('Number of client datasets: {l}'.format(l=len(federated_train_data)))\n",
        "print('First dataset: {d}'.format(d=federated_train_data[0]))\n",
        "federated_train_data\n"
      ],
      "execution_count": 201,
      "outputs": [
        {
          "output_type": "stream",
          "text": [
            "Adding data from 0 to 10049 for client : client_1\n",
            "Adding data from 10049 to 20098 for client : client_2\n",
            "Adding data from 20098 to 30147 for client : client_3\n",
            "Adding data from 30147 to 40196 for client : client_4\n",
            "Tensor(\"args_1:0\", shape=(None, 28, 28, 1), dtype=int32)\n",
            "Tensor(\"args_1:0\", shape=(None, 28, 28, 1), dtype=int32)\n",
            "Tensor(\"args_1:0\", shape=(None, 28, 28, 1), dtype=int32)\n",
            "Tensor(\"args_1:0\", shape=(None, 28, 28, 1), dtype=int32)\n",
            "Tensor(\"args_1:0\", shape=(None, 28, 28, 1), dtype=int32)\n",
            "Number of client datasets: 4\n",
            "First dataset: <PrefetchDataset shapes: OrderedDict([(x, (None, 28, 28, 1)), (y, (None, 1))]), types: OrderedDict([(x, tf.int32), (y, tf.int32)])>\n"
          ],
          "name": "stdout"
        },
        {
          "output_type": "execute_result",
          "data": {
            "text/plain": [
              "[<PrefetchDataset shapes: OrderedDict([(x, (None, 28, 28, 1)), (y, (None, 1))]), types: OrderedDict([(x, tf.int32), (y, tf.int32)])>,\n",
              " <PrefetchDataset shapes: OrderedDict([(x, (None, 28, 28, 1)), (y, (None, 1))]), types: OrderedDict([(x, tf.int32), (y, tf.int32)])>,\n",
              " <PrefetchDataset shapes: OrderedDict([(x, (None, 28, 28, 1)), (y, (None, 1))]), types: OrderedDict([(x, tf.int32), (y, tf.int32)])>,\n",
              " <PrefetchDataset shapes: OrderedDict([(x, (None, 28, 28, 1)), (y, (None, 1))]), types: OrderedDict([(x, tf.int32), (y, tf.int32)])>]"
            ]
          },
          "metadata": {
            "tags": []
          },
          "execution_count": 201
        }
      ]
    },
    {
      "cell_type": "code",
      "metadata": {
        "colab": {
          "base_uri": "https://localhost:8080/"
        },
        "id": "NTzGVl_mywLT",
        "outputId": "8ebcacb7-91e1-4807-c9d9-9c534dde8bf4"
      },
      "source": [
        "def model_fn():\n",
        "  # We _must_ create a new model here, and _not_ capture it from an external\n",
        "  # scope. TFF will call this within different graph contexts.\n",
        "\n",
        "  keras_model = create_keras_model()\n",
        "  return tff.learning.from_keras_model(\n",
        "      keras_model,\n",
        "      input_spec=preprocessed_sample_dataset.element_spec,\n",
        "      loss=losses.SparseCategoricalCrossentropy(),\n",
        "      metrics=[metrics.SparseCategoricalAccuracy()])\n",
        "\n",
        "\n",
        "iterative_process = tff.learning.build_federated_averaging_process(\n",
        "    model_fn,\n",
        "    client_optimizer_fn=lambda: optimizers.Adam(learning_rate=client_lr),\n",
        "    server_optimizer_fn=lambda: optimizers.SGD(learning_rate=server_lr))\n",
        "\n",
        "print(str(iterative_process.initialize.type_signature))"
      ],
      "execution_count": 202,
      "outputs": [
        {
          "output_type": "stream",
          "text": [
            "( -> <model=<trainable=<float32[3,3,1,32],float32[32],float32[3,3,32,64],float32[64],float32[1600,512],float32[512],float32[512,10],float32[10]>,non_trainable=<>>,optimizer_state=<int64>,delta_aggregate_state=<value_sum_process=<>,weight_sum_process=<>>,model_broadcast_state=<>>@SERVER)\n"
          ],
          "name": "stdout"
        }
      ]
    },
    {
      "cell_type": "code",
      "metadata": {
        "id": "Ob6VtBRYEzgW"
      },
      "source": [
        "state = iterative_process.initialize()\n",
        "\n",
        "tff_train_acc = []\n",
        "tff_val_acc = []\n",
        "tff_train_loss = []\n",
        "tff_val_loss = []\n",
        "\n",
        "eval_model = None"
      ],
      "execution_count": 203,
      "outputs": []
    },
    {
      "cell_type": "code",
      "metadata": {
        "colab": {
          "base_uri": "https://localhost:8080/"
        },
        "id": "tBXJGM-9Iv74",
        "outputId": "4d3d3d89-80e1-42b7-a8c0-cb223086ab41"
      },
      "source": [
        "# state.model.assign_weights_to(eval_model)\n",
        "state = iterative_process.initialize()\n",
        "# eval_model = create_keras_model()\n",
        "# eval_model.compile(optimizer=optimizers.Adam(learning_rate=client_lr),\n",
        "#                     loss=losses.SparseCategoricalCrossentropy(),\n",
        "#                     metrics=[metrics.SparseCategoricalAccuracy()])\n",
        "\n",
        "eval_model = None\n",
        "for round_num in range(1, NUM_ROUNDS+1):\n",
        "    state, tff_metrics = iterative_process.next(state, federated_train_data)\n",
        "    eval_model = create_keras_model()\n",
        "    eval_model.compile(optimizer=optimizers.Adam(learning_rate=client_lr),\n",
        "                       loss=losses.SparseCategoricalCrossentropy(),\n",
        "                       metrics=[metrics.SparseCategoricalAccuracy()])\n",
        "\n",
        "    state.model.assign_weights_to(eval_model)\n",
        "\n",
        "    ev_result = eval_model.evaluate(x_test, y_test, verbose=0)\n",
        "    print('round {:2d}, metrics={}'.format(round_num, tff_metrics))\n",
        "    print(f\"Eval loss : {ev_result[0]} and Eval accuracy : {ev_result[1]}\")\n",
        "\n",
        "\n",
        "if eval_model:\n",
        "    eval_model.save(model_dir / (experiment_name + \".h5\"))\n",
        "else:\n",
        "    print(\"training didn't started\")\n",
        "    exit()                    "
      ],
      "execution_count": 204,
      "outputs": [
        {
          "output_type": "stream",
          "text": [
            "round  1, metrics=OrderedDict([('broadcast', ()), ('aggregation', OrderedDict([('mean_value', ()), ('mean_weight', ())])), ('train', OrderedDict([('sparse_categorical_accuracy', 0.87778884), ('loss', 0.4495403)])), ('stat', OrderedDict([('num_examples', 200980)]))])\n",
            "Eval loss : 16.560802459716797 and Eval accuracy : 0.14358586072921753\n",
            "round  2, metrics=OrderedDict([('broadcast', ()), ('aggregation', OrderedDict([('mean_value', ()), ('mean_weight', ())])), ('train', OrderedDict([('sparse_categorical_accuracy', 0.838974), ('loss', 0.54306144)])), ('stat', OrderedDict([('num_examples', 200980)]))])\n",
            "Eval loss : 11.379042625427246 and Eval accuracy : 0.24424242973327637\n",
            "round  3, metrics=OrderedDict([('broadcast', ()), ('aggregation', OrderedDict([('mean_value', ()), ('mean_weight', ())])), ('train', OrderedDict([('sparse_categorical_accuracy', 0.8147179), ('loss', 0.6058767)])), ('stat', OrderedDict([('num_examples', 200980)]))])\n",
            "Eval loss : 8.616987228393555 and Eval accuracy : 0.28101009130477905\n",
            "round  4, metrics=OrderedDict([('broadcast', ()), ('aggregation', OrderedDict([('mean_value', ()), ('mean_weight', ())])), ('train', OrderedDict([('sparse_categorical_accuracy', 0.86862373), ('loss', 0.46640274)])), ('stat', OrderedDict([('num_examples', 200980)]))])\n",
            "Eval loss : 5.7653489112854 and Eval accuracy : 0.35323232412338257\n",
            "round  5, metrics=OrderedDict([('broadcast', ()), ('aggregation', OrderedDict([('mean_value', ()), ('mean_weight', ())])), ('train', OrderedDict([('sparse_categorical_accuracy', 0.86711615), ('loss', 0.4858657)])), ('stat', OrderedDict([('num_examples', 200980)]))])\n",
            "Eval loss : 3.8898298740386963 and Eval accuracy : 0.4526262581348419\n"
          ],
          "name": "stdout"
        }
      ]
    }
  ]
}